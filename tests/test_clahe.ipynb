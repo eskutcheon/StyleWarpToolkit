{
 "cells": [
  {
   "cell_type": "code",
   "execution_count": null,
   "metadata": {},
   "outputs": [],
   "source": [
    "import torch\n",
    "import torchvision.transforms.v2 as TT\n",
    "from torchvision.utils import make_grid\n",
    "import torchvision.io as IO\n",
    "import os\n",
    "import kornia as K\n",
    "from IPython.display import Image"
   ]
  },
  {
   "cell_type": "markdown",
   "metadata": {},
   "source": [
    "Planning to test several augmentations on a small set of images here - figure out specifics later"
   ]
  },
  {
   "cell_type": "code",
   "execution_count": null,
   "metadata": {},
   "outputs": [],
   "source": [
    "input_dir = os.path.join(\"data\", \"imperialboy\")\n",
    "input_paths = [os.path.join(input_dir, p) for p in os.listdir(input_dir)]\n",
    "preprocessing = TT.Compose([\n",
    "    TT.Lambda(lambda x: IO.read_image(x, IO.ImageReadMode.RGB)),\n",
    "    TT.Resize((512,512)),\n",
    "    TT.ToDtype(torch.float32, scale=True)\n",
    "])\n",
    "postprocessing = TT.Compose([\n",
    "    TT.Lambda(lambda x: make_grid(x, padding=8, normalize=True, scale_each=False)),\n",
    "    TT.ToPILImage()\n",
    "])\n",
    "clahe_test = K.augmentation.RandomClahe(p=1)"
   ]
  },
  {
   "cell_type": "code",
   "execution_count": null,
   "metadata": {},
   "outputs": [],
   "source": [
    "\n",
    "for img_str in input_paths:\n",
    "    img = preprocessing(img_str)\n",
    "    equ_img = clahe_test(img).squeeze(0)\n",
    "    #plot_util.plot_images(img, equ_img, title=f\"CLAHE test on {os.path.basename(img_str)}\")\n",
    "    img_grid = postprocessing(torch.stack((img, equ_img), dim=0))\n",
    "    print(f\"CLAHE test on {os.path.basename(img_str)}\")\n",
    "    display(img_grid)"
   ]
  }
 ],
 "metadata": {
  "kernelspec": {
   "display_name": "Python 3.7.8 64-bit",
   "language": "python",
   "name": "python3"
  },
  "language_info": {
   "codemirror_mode": {
    "name": "ipython",
    "version": 3
   },
   "file_extension": ".py",
   "mimetype": "text/x-python",
   "name": "python",
   "nbconvert_exporter": "python",
   "pygments_lexer": "ipython3",
   "version": "3.7.8"
  },
  "vscode": {
   "interpreter": {
    "hash": "0a54084e6b208ee8d1ce3989ffc20924477a5f55f5a43e22e699a6741623861e"
   }
  }
 },
 "nbformat": 4,
 "nbformat_minor": 2
}
