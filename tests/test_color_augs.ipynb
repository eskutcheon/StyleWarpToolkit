{
 "cells": [
  {
   "cell_type": "code",
   "execution_count": null,
   "metadata": {},
   "outputs": [],
   "source": [
    "import torchvision.transforms.v2 as TT\n",
    "import os, sys\n",
    "# to allow the relative import from the parent directory\n",
    "sys.path.append(os.path.join(os.getcwd(), \"..\"))\n",
    "# project files\n",
    "from augment_trials import * # pretty much all dataclasses, so not super bad practice\n",
    "from augment_test_framework import AugmentationTester"
   ]
  },
  {
   "cell_type": "markdown",
   "metadata": {},
   "source": [
    "write description of color-based augmentations here"
   ]
  },
  {
   "cell_type": "code",
   "execution_count": null,
   "metadata": {},
   "outputs": [],
   "source": [
    "input_dir = os.path.realpath(os.path.join(\"..\", \"data\", \"augment_test_samples\"))\n",
    "num_images = len(os.listdir(input_dir))\n",
    "Tester = AugmentationTester(input_dir, using_ipynb=True)\n",
    "\n",
    "def test_transforms(transforms, num_samples=num_images):\n",
    "    img_generator = Tester.read_image_generator()\n",
    "    Tester.set_composition(transforms)\n",
    "    for _ in range(num_images)[:min(num_samples, num_images)]:\n",
    "        img = next(img_generator)\n",
    "        img_aug = Tester.augmentations(img)\n",
    "        img_grid = Tester.get_comparison_grid(img, img_aug)\n",
    "        display(img_grid)"
   ]
  },
  {
   "cell_type": "markdown",
   "metadata": {},
   "source": [
    "# Individual Color and Brightness Augmentation Tests (No Composition)"
   ]
  },
  {
   "cell_type": "markdown",
   "metadata": {},
   "source": [
    "### AdjustContrast"
   ]
  },
  {
   "cell_type": "code",
   "execution_count": null,
   "metadata": {},
   "outputs": [],
   "source": [
    "test_transforms([AdjustContrast])"
   ]
  },
  {
   "cell_type": "markdown",
   "metadata": {},
   "source": [
    "### AdjustHue"
   ]
  },
  {
   "cell_type": "code",
   "execution_count": null,
   "metadata": {},
   "outputs": [],
   "source": [
    "test_transforms([AdjustHue])"
   ]
  },
  {
   "cell_type": "markdown",
   "metadata": {},
   "source": [
    "### AdjustSaturation"
   ]
  },
  {
   "cell_type": "code",
   "execution_count": null,
   "metadata": {},
   "outputs": [],
   "source": [
    "test_transforms([AdjustSaturation])"
   ]
  },
  {
   "cell_type": "markdown",
   "metadata": {},
   "source": [
    "### AdjustBrightness"
   ]
  },
  {
   "cell_type": "code",
   "execution_count": null,
   "metadata": {},
   "outputs": [],
   "source": [
    "test_transforms([AdjustBrightness])"
   ]
  },
  {
   "cell_type": "markdown",
   "metadata": {},
   "source": [
    "### AdjustGamma"
   ]
  },
  {
   "cell_type": "code",
   "execution_count": null,
   "metadata": {},
   "outputs": [],
   "source": [
    "test_transforms([AdjustGamma])"
   ]
  },
  {
   "cell_type": "markdown",
   "metadata": {},
   "source": [
    "### AdjustSharpness"
   ]
  },
  {
   "cell_type": "code",
   "execution_count": null,
   "metadata": {},
   "outputs": [],
   "source": [
    "test_transforms([AdjustSharpness])"
   ]
  },
  {
   "cell_type": "markdown",
   "metadata": {},
   "source": [
    "### ColorJitter"
   ]
  },
  {
   "cell_type": "code",
   "execution_count": null,
   "metadata": {},
   "outputs": [],
   "source": [
    "test_transforms([ColorJitter])"
   ]
  }
 ],
 "metadata": {
  "kernelspec": {
   "display_name": "Python 3.11.2 64-bit",
   "language": "python",
   "name": "python3"
  },
  "language_info": {
   "codemirror_mode": {
    "name": "ipython",
    "version": 3
   },
   "file_extension": ".py",
   "mimetype": "text/x-python",
   "name": "python",
   "nbconvert_exporter": "python",
   "pygments_lexer": "ipython3",
   "version": "3.11.2"
  },
  "orig_nbformat": 4,
  "vscode": {
   "interpreter": {
    "hash": "332e085a8fa2cb366680748fc4f1fa358f2024892d3485111e80a3b6dcb86e1b"
   }
  }
 },
 "nbformat": 4,
 "nbformat_minor": 2
}
