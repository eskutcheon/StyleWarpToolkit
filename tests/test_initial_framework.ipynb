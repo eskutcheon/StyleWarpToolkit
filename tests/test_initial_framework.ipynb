{
 "cells": [
  {
   "cell_type": "code",
   "execution_count": null,
   "metadata": {},
   "outputs": [],
   "source": [
    "import torchvision.transforms.v2 as TT\n",
    "import os, sys\n",
    "# to allow the relative import from the parent directory\n",
    "sys.path.append(os.path.join(os.getcwd(), \"..\"))\n",
    "# project files\n",
    "from augment_trials import * # pretty much all dataclasses, so not super bad practice\n",
    "from augment_test_framework import AugmentationTester"
   ]
  },
  {
   "cell_type": "markdown",
   "metadata": {},
   "source": [
    "Description of testing goes here"
   ]
  },
  {
   "cell_type": "code",
   "execution_count": null,
   "metadata": {},
   "outputs": [],
   "source": [
    "input_dir = os.path.realpath(os.path.join(\"..\", \"data\", \"augment_test_samples\"))\n",
    "num_images = len(os.listdir(input_dir))\n",
    "Tester = AugmentationTester(input_dir, using_ipynb=True)\n",
    "\n",
    "def test_transforms(transforms, num_samples=num_images):\n",
    "    img_generator = Tester.read_image_generator()\n",
    "    Tester.set_composition(transforms)\n",
    "    for _ in range(num_images)[:min(num_samples, num_images)]:\n",
    "        img = next(img_generator)\n",
    "        img_aug = Tester.augmentations(img)\n",
    "        img_grid = Tester.get_comparison_grid(img, img_aug)\n",
    "        display(img_grid)"
   ]
  },
  {
   "cell_type": "markdown",
   "metadata": {},
   "source": [
    "For now, I'm just testing individual transforms, but I've written functionality for `AugmentationTester` to create a `torchvision.transforms.v2.Compose` object given a list of augmentation dataclasses from `augmentation_tests/augment_test_framework.py`.\n",
    "\n",
    "The cell below is therefore just going to iterate over a list of these dataclasses and apply them individually to test whether the AugmentationTester object works.\n",
    "\n",
    "Since I want to test it the way it was intended, I'm going to save a local augmentation variable by calling `get_augmentation` as well as setting the augmentation as a class variable within a Compose object by calling `set_composition`, passing the dataclass within a list.\n",
    "\n",
    "Note that implementing a testing framework may be on my todo list, so I can control what augmentation(s) are tested, how it's tested, and what it's tested on. For now, I'm just limiting the images this thing tests."
   ]
  },
  {
   "cell_type": "code",
   "execution_count": null,
   "metadata": {},
   "outputs": [],
   "source": [
    "augment_classes = [AdjustHue, AdjustContrast, AdjustGamma, AdjustSaturation] # replace later\n",
    "img_generator = Tester.read_image_generator()\n",
    "temp_augmentation = Tester.get_augmentation(AdjustContrast)\n",
    "for _ in range(num_images)[:2]:\n",
    "    img = next(img_generator)\n",
    "    img_aug = temp_augmentation(img)\n",
    "    img_grid = Tester.get_comparison_grid(img, img_aug)\n",
    "    display(img_grid)"
   ]
  },
  {
   "cell_type": "code",
   "execution_count": null,
   "metadata": {},
   "outputs": [],
   "source": [
    "test_transforms([AdjustContrast], num_samples=2)"
   ]
  },
  {
   "cell_type": "markdown",
   "metadata": {},
   "source": [
    "### Note for later\n",
    "possibly worth investigating: lowered contrast on an image resembles a uniformly applied fog effect - adding texture to this could probably replicate it well."
   ]
  },
  {
   "cell_type": "code",
   "execution_count": null,
   "metadata": {},
   "outputs": [],
   "source": [
    "test_transforms([AdjustHue, AdjustGamma], num_samples=3)"
   ]
  }
 ],
 "metadata": {
  "kernelspec": {
   "display_name": "Python 3.11.2 64-bit",
   "language": "python",
   "name": "python3"
  },
  "language_info": {
   "codemirror_mode": {
    "name": "ipython",
    "version": 3
   },
   "file_extension": ".py",
   "mimetype": "text/x-python",
   "name": "python",
   "nbconvert_exporter": "python",
   "pygments_lexer": "ipython3",
   "version": "3.11.2"
  },
  "orig_nbformat": 4,
  "vscode": {
   "interpreter": {
    "hash": "332e085a8fa2cb366680748fc4f1fa358f2024892d3485111e80a3b6dcb86e1b"
   }
  }
 },
 "nbformat": 4,
 "nbformat_minor": 2
}
